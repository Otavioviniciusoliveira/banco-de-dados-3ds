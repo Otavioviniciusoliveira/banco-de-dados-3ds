{
  "nbformat": 4,
  "nbformat_minor": 0,
  "metadata": {
    "colab": {
      "provenance": [],
      "authorship_tag": "ABX9TyNDZicAvJwiLqfxXNUKDUsX",
      "include_colab_link": true
    },
    "kernelspec": {
      "name": "python3",
      "display_name": "Python 3"
    },
    "language_info": {
      "name": "python"
    }
  },
  "cells": [
    {
      "cell_type": "markdown",
      "metadata": {
        "id": "view-in-github",
        "colab_type": "text"
      },
      "source": [
        "<a href=\"https://colab.research.google.com/github/Otavioviniciusoliveira/banco-de-dados-3ds/blob/main/otavio.ipynb\" target=\"_parent\"><img src=\"https://colab.research.google.com/assets/colab-badge.svg\" alt=\"Open In Colab\"/></a>"
      ]
    },
    {
      "cell_type": "code",
      "execution_count": 1,
      "metadata": {
        "colab": {
          "base_uri": "https://localhost:8080/"
        },
        "id": "HAQEjThmVinK",
        "outputId": "6115a389-70a9-4f84-ae3e-259fc52734e2"
      },
      "outputs": [
        {
          "output_type": "stream",
          "name": "stdout",
          "text": [
            "Executado com sucesso!\n"
          ]
        }
      ],
      "source": [
        "# Importa a biblioteca para trabalhar com bancos de dados SQLite.\n",
        "import sqlite3\n",
        "\n",
        "\n",
        "# Conecta ao banco de dados (ou criar se não existir)\n",
        "conn = sqlite3.connect('clientes.db')\n",
        "\n",
        "\n",
        "# O método .cursor() cria um objeto chamado \"cursor\".\n",
        "# Esse objeto é sua interface para enviar comandos SQL ao BD.\n",
        "cursor = conn.cursor()\n",
        "\n",
        "\n",
        "# Cria a tabela de clientes\n",
        "cursor.execute('''\n",
        "CREATE TABLE IF NOT EXISTS clientes (\n",
        "   id INTEGER PRIMARY KEY AUTOINCREMENT,\n",
        "   nome TEXT NOT NULL,\n",
        "   email TEXT NOT NULL UNIQUE\n",
        ")\n",
        "''')\n",
        "\n",
        "\n",
        "# Confirma as mudanças\n",
        "conn.commit()\n",
        "\n",
        "\n",
        "# Fecha a conexão\n",
        "conn.close()\n",
        "\n",
        "\n",
        "# Confirma execução do bloco de código\n",
        "print(\"Executado com sucesso!\")\n"
      ]
    },
    {
      "cell_type": "code",
      "source": [
        "# Importa biblioteca para acessar funcionalidades do sistema operacional,\n",
        "# por exemplo, a manipulação de arquivos.\n",
        "import os\n",
        "\n",
        "# Verificar se o arquivo do banco de dados foi criado\n",
        "if os.path.exists('clientes.db'):\n",
        "    print(\"Banco de dados criado com sucesso!\")\n",
        "else:\n",
        "    print(\"Erro ao criar o banco de dados.\")\n"
      ],
      "metadata": {
        "colab": {
          "base_uri": "https://localhost:8080/"
        },
        "id": "vA0SNL6DV0eJ",
        "outputId": "035326ea-6d51-4c77-ef46-19b0035d354c"
      },
      "execution_count": 2,
      "outputs": [
        {
          "output_type": "stream",
          "name": "stdout",
          "text": [
            "Banco de dados criado com sucesso!\n"
          ]
        }
      ]
    },
    {
      "cell_type": "code",
      "source": [
        "# Define uma função que adiciona cliente ao BD\n",
        "# Recebe 'nome' e 'email' como parâmetros.\n",
        "\n",
        "def adicionar_cliente(nome, email):\n",
        "    # Conecta ao BD ou cria um novo se não existir.\n",
        "    conn = sqlite3.connect('clientes.db')\n",
        "    # Cria o \"cursor\" para executar comandos SQL.\n",
        "    cursor = conn.cursor()\n",
        "    # Executa comando SQL para inserir dados na tabela.\n",
        "    cursor.execute('''\n",
        "    INSERT INTO clientes (nome, email) VALUES (?, ?)\n",
        "    ''', (nome, email))\n",
        "    # Salva as mudanças feitas no BD.\n",
        "    conn.commit()\n",
        "    # Fecha a conexão para liberar os recursos.\n",
        "    conn.close()\n",
        "\n",
        "# Exemplo de uso\n",
        "# Chama a função para adicionar novo cliente com nome e email específicos.\n",
        "adicionar_cliente('Nikolas', 'nikolas@example.com')\n",
        "\n",
        "# Confirma a execução do bloco de código\n",
        "# Imprime mensagem ao usuário sobre conclusão da operação.\n",
        "print(\"Executado com sucesso!\")\n",
        "\n",
        "# SE HOUVER ERRO: \"DatabaseError: database disk image is malformed\"\n",
        "# SOLUÇÃO: delete o arquivo clientes.db e execute tudo desde o início.\n"
      ],
      "metadata": {
        "colab": {
          "base_uri": "https://localhost:8080/"
        },
        "id": "aAXt-PUmV8Ox",
        "outputId": "a166fd80-3263-4148-af9f-5b27824faa1d"
      },
      "execution_count": 3,
      "outputs": [
        {
          "output_type": "stream",
          "name": "stdout",
          "text": [
            "Executado com sucesso!\n"
          ]
        }
      ]
    },
    {
      "cell_type": "code",
      "source": [
        "# Define função para buscar e retornar todos os clientes do BD.\n",
        "def listar_clientes():\n",
        "    # Conecta ao BD 'clientes.db'.\n",
        "    conn = sqlite3.connect('clientes.db')\n",
        "\n",
        "    # Cria um cursor para executar comandos SQL.\n",
        "    cursor = conn.cursor()\n",
        "\n",
        "    # Executa comando SQL para selecionar todas as linhas da tabela 'clientes'.\n",
        "    cursor.execute('SELECT * FROM clientes')\n",
        "\n",
        "    # Busca todos os resultados da consulta e os armazena na variável 'clientes'.\n",
        "    clientes = cursor.fetchall()\n",
        "\n",
        "    # Fecha a conexão com o BD.\n",
        "    conn.close()\n",
        "\n",
        "    # Retorna a lista de clientes.\n",
        "    return clientes\n",
        "\n",
        "# Exemplo de uso\n",
        "# Chama a função para obter a lista de clientes.\n",
        "clientes = listar_clientes()\n",
        "\n",
        "# Percorre a lista e imprime cada cliente.\n",
        "for cliente in clientes:\n",
        "    print(cliente)\n"
      ],
      "metadata": {
        "colab": {
          "base_uri": "https://localhost:8080/"
        },
        "id": "H86YG_cfWCZp",
        "outputId": "d9d325ac-7c51-4f86-c9be-32d410e63edb"
      },
      "execution_count": 4,
      "outputs": [
        {
          "output_type": "stream",
          "name": "stdout",
          "text": [
            "(1, 'Nikolas', 'nikolas@example.com')\n"
          ]
        }
      ]
    },
    {
      "cell_type": "code",
      "source": [
        "# Define função para \"limpar\" formulário, resetando os campos.\n",
        "# A função não recebe parâmetros, só retorna novo dicionário.\n",
        "def limpar_formulario():\n",
        "    # Retorna dicionário com as chaves 'nome' e 'email' e valores\n",
        "    return {'nome': '', 'email': ''}\n",
        "\n",
        "# Exemplo de uso\n",
        "# Cria dicionário que simula formulário preenchido.\n",
        "formulario = {'nome': 'João', 'email': 'joao@example.com'}\n",
        "print(\"Antes de limpar:\", formulario)\n",
        "\n",
        "# Chama função para obter o formulário limpo e atribui o resultado\n",
        "# à variável 'formulario', sobrescrevendo o valor anterior com campos vazios.\n",
        "formulario = limpar_formulario()\n",
        "print(\"Depois de limpar:\", formulario)\n",
        "\n"
      ],
      "metadata": {
        "colab": {
          "base_uri": "https://localhost:8080/"
        },
        "id": "a26El9CaWGKJ",
        "outputId": "ceea8e2c-4b79-47cf-865a-a589f541990a"
      },
      "execution_count": 5,
      "outputs": [
        {
          "output_type": "stream",
          "name": "stdout",
          "text": [
            "Antes de limpar: {'nome': 'João', 'email': 'joao@example.com'}\n",
            "Depois de limpar: {'nome': '', 'email': ''}\n"
          ]
        }
      ]
    },
    {
      "cell_type": "code",
      "source": [
        "import sqlite3\n",
        "\n",
        "def limpar_dados_banco():\n",
        "    conn = sqlite3.connect('clientes.db')\n",
        "    cursor = conn.cursor()\n",
        "    cursor.execute('DELETE FROM clientes')\n",
        "    conn.commit()\n",
        "    conn.close()\n",
        "\n",
        "# Exemplo de uso\n",
        "limpar_dados_banco()"
      ],
      "metadata": {
        "id": "MzVJyfdEWSpZ"
      },
      "execution_count": 6,
      "outputs": []
    }
  ]
}